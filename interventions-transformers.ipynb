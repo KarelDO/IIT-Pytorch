{
 "cells": [
  {
   "cell_type": "code",
   "execution_count": 23,
   "metadata": {},
   "outputs": [],
   "source": [
    "import torch\n",
    "import random"
   ]
  },
  {
   "cell_type": "code",
   "execution_count": 24,
   "metadata": {},
   "outputs": [],
   "source": [
    "class InterventionableTransformer():\n",
    "    def __init__(self, model):\n",
    "        self.activation = {}\n",
    "        self.model = model\n",
    "\n",
    "    # these functions are model dependent\n",
    "    # they specify how the coordinate system works\n",
    "    def _coordinate_to_getter(self, coord):\n",
    "        layer, index = coord\n",
    "        def hook(model, input, output):\n",
    "            self.activation[f'{layer}-{index}'] = output[:,index]\n",
    "        handler = self.model.bert.encoder.layer[layer].output.register_forward_hook(hook)\n",
    "        return handler\n",
    "\n",
    "    def _coordinate_to_setter(self, coord):\n",
    "        layer, index = coord\n",
    "        def hook(model, input, output):\n",
    "            # NOTE: This might lead to errors about inplace manipulations during the backprop.\n",
    "            output[:,index] = self.activation[f'{layer}-{index}']\n",
    "        handler = self.model.bert.encoder.layer[layer].output.register_forward_hook(hook)\n",
    "        return handler\n",
    "\n",
    "    def _slice_to_getter(self, bl_coord, tr_coord):\n",
    "        # NOTE: Alternative implementation would call _coordinate_to_getter for every coord in the slice\n",
    "        # In this alternative implementation, user needs to only implement the _coordinate_ functions\n",
    "        b_layer, l_index = bl_coord\n",
    "        t_layer, r_index = tr_coord\n",
    "\n",
    "        handlers = []\n",
    "        for layer in range(b_layer, t_layer+1):\n",
    "            def hook(model, input, output):\n",
    "                self.activation[f'{layer}-{l_index}:{r_index}'] = output[:,l_index:r_index+1]\n",
    "            handlers.append(self.model.bert.encoder.layer[layer].output.register_forward_hook(hook))\n",
    "        \n",
    "        class HandlerList():\n",
    "            def __init__(self, handlers):\n",
    "                self.handlers = handlers\n",
    "\n",
    "            def remove(self):\n",
    "                for handler in self.handlers:\n",
    "                    handler.remove()\n",
    "\n",
    "        return HandlerList(handlers)\n",
    "\n",
    "    def _slice_to_setter(self, bl_coord, tr_coord):\n",
    "        b_layer, l_index = bl_coord\n",
    "        t_layer, r_index = tr_coord\n",
    "\n",
    "        handlers = []\n",
    "        for layer in range(b_layer, t_layer+1):\n",
    "            def hook(model, input, output):\n",
    "                output[:,l_index:r_index+1] = self.activation[f'{layer}-{l_index}:{r_index}']\n",
    "            handlers.append(self.model.bert.encoder.layer[layer].output.register_forward_hook(hook))\n",
    "        \n",
    "        class HandlerList():\n",
    "            def __init__(self, handlers):\n",
    "                self.handlers = handlers\n",
    "\n",
    "            def remove(self):\n",
    "                for handler in self.handlers:\n",
    "                    handler.remove()\n",
    "\n",
    "        return HandlerList(handlers)\n",
    "\n",
    "\n",
    "    def forward(self, source, base, coord):\n",
    "        # NOTE: other ways that do not require constantly adding / removing hooks should exist\n",
    "\n",
    "        # set hook to get activation\n",
    "        # get_handler = self.names_to_layers[layer_name].register_forward_hook(self._get_activation(layer_name))\n",
    "        get_handler = self._coordinate_to_getter(coord)\n",
    "\n",
    "        # get output on source examples (and also capture the activations)\n",
    "        source_logits = self.model(**source)\n",
    "\n",
    "        # remove the handler (don't store activations on base) \n",
    "        get_handler.remove()\n",
    "\n",
    "        # get base logits\n",
    "        base_logits = self.model(**base)\n",
    "        \n",
    "        # set hook to do the intervention\n",
    "        set_handler = self._coordinate_to_setter(coord)\n",
    "\n",
    "        # get counterfactual output on base examples\n",
    "        counterfactual_logits = self.model(**base)\n",
    "\n",
    "        # remove the handler\n",
    "        set_handler.remove()\n",
    "\n",
    "        return source_logits, base_logits, counterfactual_logits\n",
    "\n",
    "\n",
    "    def forward_slice(self, source, base, bl_coord, tr_coord):\n",
    "        # NOTE: other ways that do not require constantly adding / removing hooks should exist\n",
    "\n",
    "        # set hook to get activation\n",
    "        # get_handler = self.names_to_layers[layer_name].register_forward_hook(self._get_activation(layer_name))\n",
    "        get_handler = self._slice_to_getter(bl_coord, tr_coord)\n",
    "\n",
    "        # get output on source examples (and also capture the activations)\n",
    "        source_logits = self.model(**source)\n",
    "\n",
    "        # remove the handler (don't store activations on base) \n",
    "        get_handler.remove()\n",
    "\n",
    "        # get base logits\n",
    "        base_logits = self.model(**base)\n",
    "        \n",
    "        # set hook to do the intervention\n",
    "        set_handler = self._slice_to_setter(bl_coord, tr_coord)\n",
    "\n",
    "        # get counterfactual output on base examples\n",
    "        counterfactual_logits = self.model(**base)\n",
    "\n",
    "        # remove the handler\n",
    "        set_handler.remove()\n",
    "\n",
    "        return source_logits, base_logits, counterfactual_logits\n"
   ]
  },
  {
   "cell_type": "code",
   "execution_count": 25,
   "metadata": {},
   "outputs": [
    {
     "name": "stderr",
     "output_type": "stream",
     "text": [
      "Some weights of the model checkpoint at bert-base-uncased were not used when initializing BertForSequenceClassification: ['cls.predictions.transform.dense.weight', 'cls.predictions.bias', 'cls.seq_relationship.bias', 'cls.predictions.decoder.weight', 'cls.predictions.transform.LayerNorm.weight', 'cls.seq_relationship.weight', 'cls.predictions.transform.LayerNorm.bias', 'cls.predictions.transform.dense.bias']\n",
      "- This IS expected if you are initializing BertForSequenceClassification from the checkpoint of a model trained on another task or with another architecture (e.g. initializing a BertForSequenceClassification model from a BertForPreTraining model).\n",
      "- This IS NOT expected if you are initializing BertForSequenceClassification from the checkpoint of a model that you expect to be exactly identical (initializing a BertForSequenceClassification model from a BertForSequenceClassification model).\n",
      "Some weights of BertForSequenceClassification were not initialized from the model checkpoint at bert-base-uncased and are newly initialized: ['classifier.weight', 'classifier.bias']\n",
      "You should probably TRAIN this model on a down-stream task to be able to use it for predictions and inference.\n"
     ]
    }
   ],
   "source": [
    "from transformers import BertForSequenceClassification, BertTokenizer\n",
    "tokenizer = BertTokenizer.from_pretrained('bert-base-uncased')\n",
    "model = InterventionableTransformer(BertForSequenceClassification.from_pretrained('bert-base-uncased'));"
   ]
  },
  {
   "cell_type": "code",
   "execution_count": 26,
   "metadata": {},
   "outputs": [],
   "source": [
    "base = tokenizer(\"tokenize this sentence which is now longer!\", return_tensors='pt')\n",
    "source = tokenizer(\"short sentence!\", return_tensors='pt')"
   ]
  },
  {
   "cell_type": "code",
   "execution_count": 27,
   "metadata": {},
   "outputs": [
    {
     "data": {
      "text/plain": [
       "(SequenceClassifierOutput(loss=None, logits=tensor([[0.0317, 0.1740]], grad_fn=<AddmmBackward0>), hidden_states=None, attentions=None),\n",
       " SequenceClassifierOutput(loss=None, logits=tensor([[-0.3456,  0.1440]], grad_fn=<AddmmBackward0>), hidden_states=None, attentions=None),\n",
       " SequenceClassifierOutput(loss=None, logits=tensor([[-0.1326,  0.1118]], grad_fn=<AddmmBackward0>), hidden_states=None, attentions=None))"
      ]
     },
     "execution_count": 27,
     "metadata": {},
     "output_type": "execute_result"
    }
   ],
   "source": [
    "# intervene on a single coord\n",
    "coord = (10,0)\n",
    "\n",
    "model.forward(source, base, coord)"
   ]
  },
  {
   "cell_type": "code",
   "execution_count": 28,
   "metadata": {},
   "outputs": [
    {
     "data": {
      "text/plain": [
       "(SequenceClassifierOutput(loss=None, logits=tensor([[0.0317, 0.1740]], grad_fn=<AddmmBackward0>), hidden_states=None, attentions=None),\n",
       " SequenceClassifierOutput(loss=None, logits=tensor([[-0.3456,  0.1440]], grad_fn=<AddmmBackward0>), hidden_states=None, attentions=None),\n",
       " SequenceClassifierOutput(loss=None, logits=tensor([[-0.2397,  0.1655]], grad_fn=<AddmmBackward0>), hidden_states=None, attentions=None))"
      ]
     },
     "execution_count": 28,
     "metadata": {},
     "output_type": "execute_result"
    }
   ],
   "source": [
    "# intervene on a slice\n",
    "bl_coord = (9,1)\n",
    "tr_coord = (10,3)\n",
    "\n",
    "model.forward_slice(source, base, bl_coord, tr_coord)"
   ]
  }
 ],
 "metadata": {
  "interpreter": {
   "hash": "933b0a94e0d88ac80a17cb26ca3d8d36930c12815b02a2885c1925c2b1ae3c33"
  },
  "kernelspec": {
   "display_name": "Python 3.7.11 64-bit ('iit': conda)",
   "language": "python",
   "name": "python3"
  },
  "language_info": {
   "codemirror_mode": {
    "name": "ipython",
    "version": 3
   },
   "file_extension": ".py",
   "mimetype": "text/x-python",
   "name": "python",
   "nbconvert_exporter": "python",
   "pygments_lexer": "ipython3",
   "version": "3.7.11"
  },
  "orig_nbformat": 4
 },
 "nbformat": 4,
 "nbformat_minor": 2
}
