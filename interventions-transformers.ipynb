{
 "cells": [
  {
   "cell_type": "code",
   "execution_count": 2,
   "metadata": {},
   "outputs": [],
   "source": [
    "import torch\n",
    "import random"
   ]
  },
  {
   "cell_type": "code",
   "execution_count": 4,
   "metadata": {},
   "outputs": [],
   "source": [
    "class InterventionableTransformer():\n",
    "    def __init__(self, model):\n",
    "        self.activation = {}\n",
    "        self.model = model\n",
    "\n",
    "    # these functions are model dependent\n",
    "    # they specify how the coordinate system works\n",
    "    def _coordinate_to_getter(self, coord):\n",
    "        layer, index = coord\n",
    "        def hook(model, input, output):\n",
    "            self.activation[f'{layer}-{index}'] = output[:,index]\n",
    "        handler = self.model.bert.encoder.layer[layer].output.register_forward_hook(hook)\n",
    "        return handler\n",
    "\n",
    "    def _coordinate_to_setter(self, coord):\n",
    "        layer, index = coord\n",
    "        def hook(model, input, output):\n",
    "            # NOTE: This might lead to errors about inplace manipulations during the backprop.\n",
    "            output[:,index] = self.activation[f'{layer}-{index}']\n",
    "        handler = self.model.bert.encoder.layer[layer].output.register_forward_hook(hook)\n",
    "        return handler\n",
    "\n",
    "    def _slice_to_getter(self, bl_coord, tr_coord):\n",
    "        # NOTE: Alternative implementation would call _coordinate_to_getter for every coord in the slice\n",
    "        # In this alternative implementation, user needs to only implement the _coordinate_ functions\n",
    "        b_layer, l_index = bl_coord\n",
    "        t_layer, r_index = tr_coord\n",
    "\n",
    "        handlers = []\n",
    "        for layer in range(b_layer, t_layer+1):\n",
    "            def hook(model, input, output):\n",
    "                self.activation[f'{layer}-{l_index}:{r_index}'] = output[:,l_index:r_index+1]\n",
    "            handlers.append(self.model.bert.encoder.layer[layer].output.register_forward_hook(hook))\n",
    "        \n",
    "        class HandlerList():\n",
    "            def __init__(self, handlers):\n",
    "                self.handlers = handlers\n",
    "\n",
    "            def remove(self):\n",
    "                for handler in self.handlers:\n",
    "                    handler.remove()\n",
    "\n",
    "        return HandlerList(handlers)\n",
    "\n",
    "    def _slice_to_setter(self, bl_coord, tr_coord):\n",
    "        b_layer, l_index = bl_coord\n",
    "        t_layer, r_index = tr_coord\n",
    "\n",
    "        handlers = []\n",
    "        for layer in range(b_layer, t_layer+1):\n",
    "            def hook(model, input, output):\n",
    "                output[:,l_index:r_index+1] = self.activation[f'{layer}-{l_index}:{r_index}']\n",
    "            handlers.append(self.model.bert.encoder.layer[layer].output.register_forward_hook(hook))\n",
    "        \n",
    "        class HandlerList():\n",
    "            def __init__(self, handlers):\n",
    "                self.handlers = handlers\n",
    "\n",
    "            def remove(self):\n",
    "                for handler in self.handlers:\n",
    "                    handler.remove()\n",
    "\n",
    "        return HandlerList(handlers)\n",
    "\n",
    "\n",
    "    def forward(self, source, base, coord, source_labels=None, base_labels=None, counterfactual_labels=None):\n",
    "        # NOTE: other ways that do not require constantly adding / removing hooks should exist\n",
    "\n",
    "        # set hook to get activation\n",
    "        # get_handler = self.names_to_layers[layer_name].register_forward_hook(self._get_activation(layer_name))\n",
    "        get_handler = self._coordinate_to_getter(coord)\n",
    "\n",
    "        # get output on source examples (and also capture the activations)\n",
    "        source_logits = self.model(**source, labels=source_labels)\n",
    "\n",
    "        # remove the handler (don't store activations on base) \n",
    "        get_handler.remove()\n",
    "\n",
    "        # get base logits\n",
    "        base_logits = self.model(**base, labels=base_labels)\n",
    "        \n",
    "        # set hook to do the intervention\n",
    "        set_handler = self._coordinate_to_setter(coord)\n",
    "\n",
    "        # get counterfactual output on base examples\n",
    "        counterfactual_logits = self.model(**base, labels=counterfactual_labels)\n",
    "\n",
    "        # remove the handler\n",
    "        set_handler.remove()\n",
    "\n",
    "        return source_logits, base_logits, counterfactual_logits\n",
    "\n",
    "\n",
    "    def forward_slice(self, source, base, bl_coord, tr_coord, source_labels=None, base_labels=None, counterfactual_labels=None):\n",
    "        # NOTE: other ways that do not require constantly adding / removing hooks should exist\n",
    "\n",
    "        # set hook to get activation\n",
    "        # get_handler = self.names_to_layers[layer_name].register_forward_hook(self._get_activation(layer_name))\n",
    "        get_handler = self._slice_to_getter(bl_coord, tr_coord)\n",
    "\n",
    "        # get output on source examples (and also capture the activations)\n",
    "        source_logits = self.model(**source, labels=source_labels)\n",
    "\n",
    "        # remove the handler (don't store activations on base) \n",
    "        get_handler.remove()\n",
    "\n",
    "        # get base logits\n",
    "        base_logits = self.model(**base, labels=base_labels)\n",
    "        \n",
    "        # set hook to do the intervention\n",
    "        set_handler = self._slice_to_setter(bl_coord, tr_coord)\n",
    "\n",
    "        # get counterfactual output on base examples\n",
    "        counterfactual_logits = self.model(**base, labels=counterfactual_labels)\n",
    "\n",
    "        # remove the handler\n",
    "        set_handler.remove()\n",
    "\n",
    "        return source_logits, base_logits, counterfactual_logits\n"
   ]
  },
  {
   "cell_type": "code",
   "execution_count": 5,
   "metadata": {},
   "outputs": [],
   "source": [
    "from transformers import BertForSequenceClassification, BertTokenizer, BertConfig\n",
    "\n",
    "config = BertConfig.from_pretrained('bert-base-uncased')\n",
    "config.num_labels = 1\n",
    "model = BertForSequenceClassification(config)\n",
    "\n",
    "tokenizer = BertTokenizer.from_pretrained('bert-base-uncased')\n",
    "model = InterventionableTransformer(model)"
   ]
  },
  {
   "cell_type": "code",
   "execution_count": 6,
   "metadata": {},
   "outputs": [],
   "source": [
    "base = tokenizer(\"tokenize this sentence which is now longer!\", return_tensors='pt')\n",
    "source = tokenizer(\"short sentence!\", return_tensors='pt')"
   ]
  },
  {
   "cell_type": "code",
   "execution_count": 7,
   "metadata": {},
   "outputs": [
    {
     "data": {
      "text/plain": [
       "(SequenceClassifierOutput(loss=None, logits=tensor([[-0.2717]], grad_fn=<AddmmBackward0>), hidden_states=None, attentions=None),\n",
       " SequenceClassifierOutput(loss=None, logits=tensor([[-0.4269]], grad_fn=<AddmmBackward0>), hidden_states=None, attentions=None),\n",
       " SequenceClassifierOutput(loss=None, logits=tensor([[-0.3380]], grad_fn=<AddmmBackward0>), hidden_states=None, attentions=None))"
      ]
     },
     "execution_count": 7,
     "metadata": {},
     "output_type": "execute_result"
    }
   ],
   "source": [
    "# intervene on a single coord\n",
    "coord = (10,0)\n",
    "\n",
    "model.forward(source, base, coord)"
   ]
  },
  {
   "cell_type": "code",
   "execution_count": 8,
   "metadata": {},
   "outputs": [
    {
     "name": "stdout",
     "output_type": "stream",
     "text": [
      "(SequenceClassifierOutput(loss=None, logits=tensor([[-0.4341]], grad_fn=<AddmmBackward0>), hidden_states=None, attentions=None), SequenceClassifierOutput(loss=None, logits=tensor([[-0.5688]], grad_fn=<AddmmBackward0>), hidden_states=None, attentions=None), SequenceClassifierOutput(loss=None, logits=tensor([[-0.4428]], grad_fn=<AddmmBackward0>), hidden_states=None, attentions=None))\n",
      "(SequenceClassifierOutput(loss=None, logits=tensor([[-0.3204]], grad_fn=<AddmmBackward0>), hidden_states=None, attentions=None), SequenceClassifierOutput(loss=None, logits=tensor([[-0.2707]], grad_fn=<AddmmBackward0>), hidden_states=None, attentions=None), SequenceClassifierOutput(loss=None, logits=tensor([[-0.2740]], grad_fn=<AddmmBackward0>), hidden_states=None, attentions=None))\n"
     ]
    }
   ],
   "source": [
    "# intervene on a slice\n",
    "bl_coord = (9,1)\n",
    "tr_coord = (10,3)\n",
    "\n",
    "print(model.forward_slice(source, base, bl_coord, tr_coord))\n",
    "print(model.forward_slice(source, base, bl_coord, tr_coord))"
   ]
  },
  {
   "cell_type": "markdown",
   "metadata": {},
   "source": [
    "### checking backpropagation using the interventionable"
   ]
  },
  {
   "cell_type": "code",
   "execution_count": 9,
   "metadata": {},
   "outputs": [
    {
     "name": "stderr",
     "output_type": "stream",
     "text": [
      "/home/kldooste/miniconda3/envs/iit/lib/python3.7/site-packages/transformers/optimization.py:309: FutureWarning: This implementation of AdamW is deprecated and will be removed in a future version. Use thePyTorch implementation torch.optim.AdamW instead, or set `no_deprecation_warning=True` to disable this warning\n",
      "  FutureWarning,\n"
     ]
    },
    {
     "name": "stdout",
     "output_type": "stream",
     "text": [
      "tensor(0.1240, grad_fn=<MseLossBackward0>)\n",
      "source_loss: tensor(0.1240, grad_fn=<MseLossBackward0>)\n",
      "base_loss: tensor(0.0793, grad_fn=<MseLossBackward0>)\n",
      "counterfactual_loss: tensor(0.1069, grad_fn=<MseLossBackward0>)\n"
     ]
    }
   ],
   "source": [
    "device = torch.device(\"cuda\") if torch.cuda.is_available() else torch.device(\"cpu\")\n",
    "\n",
    "# creating some fake labels\n",
    "source_labels=torch.randint(high=1,size=(1,1),device=device).float()\n",
    "base_labels=torch.randint(high=1,size=(1,1),device=device).float()\n",
    "counterfactual_labels=torch.randint(high=1,size=(1,1),device=device).float()\n",
    "\n",
    "source = source.to(device)\n",
    "base = base.to(device)\n",
    "model.model.to(device)\n",
    "\n",
    "coord = (10,0)\n",
    "\n",
    "model.model.train()\n",
    "source_logits, base_logits, counterfactual_logits = model.forward(source, base, coord, source_labels=source_labels, base_labels=base_labels, counterfactual_labels=counterfactual_labels)\n",
    "\n",
    "# config\n",
    "config = model.model.config\n",
    "# extra params\n",
    "lr = 5e-5\n",
    "num_epochs = 10\n",
    "num_steps_per_epoch = 10 # NOTE: normally get this from the dataloader\n",
    "num_training_steps = num_epochs * num_steps_per_epoch\n",
    "num_warmup_steps = 0\n",
    "\n",
    "# optimizer\n",
    "from transformers import AdamW\n",
    "optimizer = AdamW(model.model.parameters(), lr=lr)\n",
    "\n",
    "# scheduler\n",
    "from transformers import get_scheduler\n",
    "lr_scheduler = get_scheduler(\"linear\", optimizer=optimizer, num_warmup_steps=num_warmup_steps, num_training_steps=num_training_steps)\n",
    "\n",
    "# update\n",
    "source_loss = source_logits.loss\n",
    "base_loss = base_logits.loss\n",
    "counterfactual_loss = counterfactual_logits.loss\n",
    "\n",
    "\n",
    "loss = source_loss #+ base_loss + counterfactual_loss\n",
    "print(loss)\n",
    "loss.backward()\n",
    "optimizer.step()\n",
    "lr_scheduler.step()\n",
    "optimizer.zero_grad()\n",
    "\n",
    "print(\"source_loss:\",source_loss)\n",
    "print(\"base_loss:\",base_loss)\n",
    "print(\"counterfactual_loss:\",counterfactual_loss)"
   ]
  },
  {
   "cell_type": "markdown",
   "metadata": {},
   "source": [
    "### checking how arithmetic sequences are tokenized"
   ]
  },
  {
   "cell_type": "code",
   "execution_count": 10,
   "metadata": {},
   "outputs": [],
   "source": [
    "input_ids = tokenizer(\"5+4-(3+2)\", return_tensors='pt')['input_ids'].squeeze()"
   ]
  },
  {
   "cell_type": "code",
   "execution_count": 11,
   "metadata": {},
   "outputs": [
    {
     "name": "stdout",
     "output_type": "stream",
     "text": [
      "[CLS] 5 + 4 - ( 3 + 2 ) [SEP]\n",
      "['[CLS]', '5', '+', '4', '-', '(', '3', '+', '2', ')', '[SEP]']\n"
     ]
    }
   ],
   "source": [
    "print(tokenizer.decode(input_ids))\n",
    "\n",
    "tokens = []\n",
    "for id in input_ids:\n",
    "    tokens.append(tokenizer.decode([id]))\n",
    "print(tokens)"
   ]
  },
  {
   "cell_type": "code",
   "execution_count": null,
   "metadata": {},
   "outputs": [],
   "source": []
  }
 ],
 "metadata": {
  "interpreter": {
   "hash": "933b0a94e0d88ac80a17cb26ca3d8d36930c12815b02a2885c1925c2b1ae3c33"
  },
  "kernelspec": {
   "display_name": "Python 3.7.11 64-bit ('iit': conda)",
   "language": "python",
   "name": "python3"
  },
  "language_info": {
   "codemirror_mode": {
    "name": "ipython",
    "version": 3
   },
   "file_extension": ".py",
   "mimetype": "text/x-python",
   "name": "python",
   "nbconvert_exporter": "python",
   "pygments_lexer": "ipython3",
   "version": "3.7.11"
  },
  "orig_nbformat": 4
 },
 "nbformat": 4,
 "nbformat_minor": 2
}
