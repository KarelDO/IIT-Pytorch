{
 "cells": [
  {
   "cell_type": "code",
   "execution_count": 4,
   "metadata": {},
   "outputs": [],
   "source": [
    "import torch"
   ]
  },
  {
   "cell_type": "code",
   "execution_count": 78,
   "metadata": {},
   "outputs": [],
   "source": [
    "class CausalArithmetic(torch.nn.Module):\n",
    "    def __init__(self, input_size = 1):\n",
    "        super().__init__()\n",
    "        self.x = torch.nn.Identity()\n",
    "        self.y = torch.nn.Identity()\n",
    "        self.z = torch.nn.Identity()\n",
    "\n",
    "        self.S = torch.nn.Identity()\n",
    "        self.O = torch.nn.Identity()\n",
    "\n",
    "    def forward(self,input):\n",
    "        # We multiply each intermediate value with a trivial layer\n",
    "        # This allows us to attach hooks to the inttermediate values\n",
    "\n",
    "        # NOTE: would like to abstract this\n",
    "        # NOTE: overhead due to pytorch automatically tracking the backward graph,\n",
    "        # while this is not needed because the model won't be trained?\n",
    "\n",
    "        # NOTE: without copying, the intervention also changes the input tensor if we intervene on x,y, or z.\n",
    "        x = torch.clone(input[:,0])\n",
    "        y = torch.clone(input[:,1])\n",
    "        z = torch.clone(input[:,2])\n",
    "\n",
    "        x = self.x(x)\n",
    "        y = self.y(y)\n",
    "        z = self.z(z)\n",
    "\n",
    "        S = self.S(x + y)\n",
    "        O = self.O(S + z)\n",
    "        return O\n"
   ]
  },
  {
   "cell_type": "code",
   "execution_count": 79,
   "metadata": {},
   "outputs": [],
   "source": [
    "# TODO: Refactor in package\n",
    "class Interventionable():\n",
    "    def __init__(self, model):\n",
    "        self.activation = {}\n",
    "        self.model = model\n",
    "\n",
    "        self.names_to_layers = dict(self.model.named_children())\n",
    "\n",
    "    def _get_activation(self, name):\n",
    "        def hook(model, input, output):\n",
    "            self.activation[name] = output\n",
    "        return hook\n",
    "\n",
    "    def _set_activation(self, name):\n",
    "        def hook(model, input, output):\n",
    "            return self.activation[name]\n",
    "        return hook\n",
    "\n",
    "    def forward(self, source, base, layer_name):\n",
    "        # NOTE: other ways that do not require constantly adding / removing hooks should exist\n",
    "        assert source.shape == base.shape\n",
    "        assert layer_name in self.names_to_layers\n",
    "\n",
    "        # set hook to get activation\n",
    "        get_handler = self.names_to_layers[layer_name].register_forward_hook(self._get_activation(layer_name))\n",
    "\n",
    "        # get output on source examples (and also capture the activations)\n",
    "        source_logits = self.model(source)\n",
    "\n",
    "        # remove the handler (don't store activations on base) \n",
    "        get_handler.remove()\n",
    "\n",
    "        # get base logits\n",
    "        base_logits = self.model(base)\n",
    "        \n",
    "        # set hook to do the intervention\n",
    "        set_handler = self.names_to_layers[layer_name].register_forward_hook(self._set_activation(layer_name))\n",
    "\n",
    "        # get counterfactual output on base examples\n",
    "        counterfactual_logits = self.model(base)\n",
    "\n",
    "        # remove the handler\n",
    "        set_handler.remove()\n",
    "\n",
    "        return source_logits, base_logits, counterfactual_logits\n"
   ]
  },
  {
   "cell_type": "code",
   "execution_count": 80,
   "metadata": {},
   "outputs": [
    {
     "name": "stdout",
     "output_type": "stream",
     "text": [
      "tensor([18])\n",
      "tensor([12])\n"
     ]
    }
   ],
   "source": [
    "model = CausalArithmetic()\n",
    "\n",
    "base = torch.tensor([[3,6,9]])\n",
    "print(model(base))\n",
    "source = torch.tensor([[4,4,4]])\n",
    "print(model(source))"
   ]
  },
  {
   "cell_type": "code",
   "execution_count": 83,
   "metadata": {},
   "outputs": [
    {
     "name": "stdout",
     "output_type": "stream",
     "text": [
      "(tensor([12]), tensor([18]), tensor([19]))\n",
      "tensor([[3, 6, 9]])\n",
      "tensor([[4, 4, 4]])\n"
     ]
    }
   ],
   "source": [
    "model = Interventionable(CausalArithmetic())\n",
    "print(model.forward(source, base, \"x\"))\n",
    "\n",
    "print(base)\n",
    "print(source)\n"
   ]
  },
  {
   "cell_type": "code",
   "execution_count": 10,
   "metadata": {},
   "outputs": [],
   "source": [
    "# chalenge is that hooks attach to layers\n",
    "# to implement a simple causal model we don't necessarily need layers\n",
    "# but we would still like to define nodes of the computational graph\n",
    "\n",
    "# --> check how the PyTorch computational graph works\n",
    "# We can probably hack our way around this problem by defining identity-operation layers\n",
    "\n",
    "# Is this the cleanest way to extend interventions to causal models?\n",
    "\n",
    "# Alternative would be to use a different CompGraph package and define our own set of hooks (meh)"
   ]
  },
  {
   "cell_type": "code",
   "execution_count": null,
   "metadata": {},
   "outputs": [],
   "source": []
  }
 ],
 "metadata": {
  "interpreter": {
   "hash": "933b0a94e0d88ac80a17cb26ca3d8d36930c12815b02a2885c1925c2b1ae3c33"
  },
  "kernelspec": {
   "display_name": "Python 3.7.11 64-bit ('iit': conda)",
   "language": "python",
   "name": "python3"
  },
  "language_info": {
   "codemirror_mode": {
    "name": "ipython",
    "version": 3
   },
   "file_extension": ".py",
   "mimetype": "text/x-python",
   "name": "python",
   "nbconvert_exporter": "python",
   "pygments_lexer": "ipython3",
   "version": "3.7.11"
  },
  "orig_nbformat": 4
 },
 "nbformat": 4,
 "nbformat_minor": 2
}
