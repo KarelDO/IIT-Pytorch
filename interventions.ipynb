{
 "cells": [
  {
   "cell_type": "code",
   "execution_count": 193,
   "metadata": {},
   "outputs": [],
   "source": [
    "import torch\n",
    "import random"
   ]
  },
  {
   "cell_type": "code",
   "execution_count": 162,
   "metadata": {},
   "outputs": [],
   "source": [
    "# create a simple pytorch model\n",
    "class SimpleModel(torch.nn.Module):\n",
    "    def __init__(self, input_size):\n",
    "        super().__init__()\n",
    "        self.ff1 = torch.nn.Linear(input_size, input_size)\n",
    "        self.act1 = torch.nn.ReLU()\n",
    "        self.ff2 = torch.nn.Linear(input_size, input_size)\n",
    "        self.act2 = torch.nn.ReLU()\n",
    "        self.ff3 = torch.nn.Linear(input_size, 1)\n",
    "\n",
    "    def forward(self, x):\n",
    "        a = self.act1(self.ff1(x))\n",
    "        b = self.act2(self.ff2(x))\n",
    "        x = self.ff3((a+b)/2)\n",
    "        return x\n",
    "\n",
    "\n",
    "class Interventionable():\n",
    "    def __init__(self, model):\n",
    "        self.activation = {}\n",
    "        self.model = model\n",
    "\n",
    "        self.names_to_layers = dict(self.model.named_children())\n",
    "\n",
    "    def _get_activation(self, name):\n",
    "        def hook(model, input, output):\n",
    "            self.activation[name] = output\n",
    "        return hook\n",
    "\n",
    "    def _set_activation(self, name):\n",
    "        def hook(model, input, output):\n",
    "            output[:] = self.activation[name]\n",
    "        return hook\n",
    "\n",
    "    def forward(self, source, base, layer_name):\n",
    "        # NOTE: other ways that do not require constantly adding / removing hooks should exist\n",
    "        assert source.shape == base.shape\n",
    "        assert layer_name in self.names_to_layers\n",
    "\n",
    "        # set hook to get activation\n",
    "        get_handler = self.names_to_layers[layer_name].register_forward_hook(self._get_activation(layer_name))\n",
    "\n",
    "        # get output on source examples (and also capture the activations)\n",
    "        source_logits = self.model(source)\n",
    "\n",
    "        # remove the handler (don't store activations on base) \n",
    "        get_handler.remove()\n",
    "\n",
    "        # get base logits\n",
    "        base_logits = self.model(base)\n",
    "        \n",
    "        # set hook to do the intervention\n",
    "        set_handler = self.names_to_layers[layer_name].register_forward_hook(self._set_activation(layer_name))\n",
    "\n",
    "        # get counterfactual output on base examples\n",
    "        counterfactual_logits = self.model(base)\n",
    "\n",
    "        # remove the handler\n",
    "        set_handler.remove()\n",
    "\n",
    "        return source_logits, base_logits, counterfactual_logits\n"
   ]
  },
  {
   "cell_type": "code",
   "execution_count": 163,
   "metadata": {},
   "outputs": [],
   "source": [
    "# create two inputs\n",
    "torch.manual_seed(42)\n",
    "x_base = torch.rand((1,10))\n",
    "y_base = torch.ones((1,))\n",
    "x_source = torch.rand((1,10))\n",
    "y_source = torch.zeros((1,))"
   ]
  },
  {
   "cell_type": "code",
   "execution_count": 180,
   "metadata": {},
   "outputs": [
    {
     "data": {
      "text/plain": [
       "(tensor([[0.3744]], grad_fn=<AddmmBackward0>),\n",
       " tensor([[0.3403]], grad_fn=<AddmmBackward0>),\n",
       " tensor([[0.3744]], grad_fn=<CopySlices>))"
      ]
     },
     "execution_count": 180,
     "metadata": {},
     "output_type": "execute_result"
    }
   ],
   "source": [
    "model = Interventionable(SimpleModel(10))\n",
    "\n",
    "model.forward(x_source, x_base, 'ff3')"
   ]
  },
  {
   "cell_type": "code",
   "execution_count": 191,
   "metadata": {},
   "outputs": [
    {
     "name": "stdout",
     "output_type": "stream",
     "text": [
      "{0: 'ff1', 1: 'act1', 2: 'ff2', 3: 'act2', 4: 'ff3'}\n"
     ]
    },
    {
     "data": {
      "text/plain": [
       "(tensor([[0.3744]], grad_fn=<AddmmBackward0>),\n",
       " tensor([[0.3403]], grad_fn=<AddmmBackward0>),\n",
       " tensor([[0.4131]], grad_fn=<AddmmBackward0>))"
      ]
     },
     "execution_count": 191,
     "metadata": {},
     "output_type": "execute_result"
    }
   ],
   "source": [
    "# the user can easily define his own coordinate system\n",
    "layer_coordinates = dict(enumerate(list(dict(model.model.named_children()).keys())))\n",
    "print(layer_coordinates)\n",
    "\n",
    "model.forward(x_source, x_base, layer_coordinates[0])"
   ]
  },
  {
   "cell_type": "code",
   "execution_count": 198,
   "metadata": {},
   "outputs": [],
   "source": [
    "# we can specify alignments over these coordinate systems\n",
    "model1 = Interventionable(SimpleModel(10))\n",
    "model2 = Interventionable(SimpleModel(10))\n",
    "\n",
    "coordinates1 = dict(enumerate(list(dict(model1.model.named_children()).keys())))\n",
    "coordinates2 = dict(enumerate(list(dict(model2.model.named_children()).keys())))\n",
    "\n",
    "# alignments could also be specified over layer names ofcourse\n",
    "alignment = {\n",
    "    0:2,\n",
    "    4:4\n",
    "}\n",
    "# this alignment is equivalent to:\n",
    "# model1    model2\n",
    "# ff1   <-> ff2\n",
    "# ff3   <-> ff3\n",
    "\n",
    "# sample a random alignment\n",
    "k = list(alignment.keys())[random.randint(0,len(alignment)-1)]\n",
    "v = alignment[k]\n",
    "\n",
    "source_logits1, base_logits1, counterfactual_logits1 = model1.forward(x_source, x_base, coordinates1[k])\n",
    "source_logits2, base_logits2, counterfactual_logits2 = model2.forward(x_source, x_base, coordinates2[v])"
   ]
  }
 ],
 "metadata": {
  "interpreter": {
   "hash": "933b0a94e0d88ac80a17cb26ca3d8d36930c12815b02a2885c1925c2b1ae3c33"
  },
  "kernelspec": {
   "display_name": "Python 3.7.11 64-bit ('iit': conda)",
   "language": "python",
   "name": "python3"
  },
  "language_info": {
   "codemirror_mode": {
    "name": "ipython",
    "version": 3
   },
   "file_extension": ".py",
   "mimetype": "text/x-python",
   "name": "python",
   "nbconvert_exporter": "python",
   "pygments_lexer": "ipython3",
   "version": "3.7.11"
  },
  "orig_nbformat": 4
 },
 "nbformat": 4,
 "nbformat_minor": 2
}
